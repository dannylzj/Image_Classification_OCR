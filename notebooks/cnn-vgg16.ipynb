{
 "cells": [
  {
   "cell_type": "markdown",
   "id": "suburban-period",
   "metadata": {},
   "source": [
    "# Image Classification Model - TensorFlow Convolutional Neural Network (VGG16)\n",
    "\n",
    "## Imports"
   ]
  },
  {
   "cell_type": "code",
   "execution_count": null,
   "id": "continuous-probe",
   "metadata": {},
   "outputs": [],
   "source": [
    "import tensorflow\n",
    "import math\n",
    "from tensorflow.keras.applications.vgg16 import VGG16\n",
    "from tensorflow.keras.preprocessing.image import ImageDataGenerator\n",
    "from tensorflow.keras import models, layers\n",
    "from tensorflow.keras.callbacks import LearningRateScheduler, ModelCheckpoint\n",
    "from tensorflow.keras.optimizers import RMSprop\n",
    "from matplotlib import pyplot as plt"
   ]
  },
  {
   "cell_type": "code",
   "execution_count": 4,
   "id": "positive-partnership",
   "metadata": {},
   "outputs": [
    {
     "data": {
      "text/plain": [
       "'2.3.0'"
      ]
     },
     "execution_count": 4,
     "metadata": {},
     "output_type": "execute_result"
    }
   ],
   "source": [
    "tensorflow.__version__"
   ]
  },
  {
   "cell_type": "markdown",
   "id": "forbidden-africa",
   "metadata": {},
   "source": [
    "## Settings and Dataset"
   ]
  },
  {
   "cell_type": "code",
   "execution_count": 12,
   "id": "endangered-comparative",
   "metadata": {},
   "outputs": [
    {
     "name": "stdout",
     "output_type": "stream",
     "text": [
      "Found 33 images belonging to 3 classes.\n",
      "Found 132 images belonging to 3 classes.\n"
     ]
    }
   ],
   "source": [
    "# Validation ImageDataGenerator with rescaling\n",
    "valid_datagen = ImageDataGenerator(rescale=1./255,\n",
    "                                   validation_split=0.2)\n",
    "\n",
    "# Training ImagaDataGenerator with Augmentation transformation\n",
    "train_datagen = ImageDataGenerator(rescale=1./255,\n",
    "                                   validation_split=0.2,\n",
    "                                   rotation_range=20,\n",
    "                                   brightness_range= [0.5, 1.5],\n",
    "                                   channel_shift_range=40,\n",
    "#                                    shear_range=10,\n",
    "                                   zoom_range=0.1,\n",
    "                                   fill_mode='nearest',\n",
    "                                   height_shift_range=0.2,\n",
    "                                   width_shift_range=0.2\n",
    "                                  )\n",
    "\n",
    "# Create a flow from the directory for validation data - seed=42\n",
    "# Choose subset = 'validation'\n",
    "valid_gen = valid_datagen.flow_from_directory(directory='train_dataset',\n",
    "                                              subset='validation',\n",
    "                                              shuffle=True,\n",
    "                                              seed=42, # seed to ensure same validation split for both train_gen and valid_gen\n",
    "                                              target_size=(224,224),\n",
    "                                              batch_size=64,\n",
    "#                                               save_to_dir='valid_gen', # for image visualization\n",
    "                                              class_mode='categorical')\n",
    "\n",
    "# Create a flow from the directory using same seed and 'training' subset.\n",
    "train_gen = train_datagen.flow_from_directory(directory='train_dataset',\n",
    "                                              subset='training',\n",
    "                                              shuffle=True,\n",
    "                                              seed=42, # seed to ensure same validation split for train_gen and valid_gen\n",
    "                                              target_size=(224,224),\n",
    "                                              batch_size=64,\n",
    "#                                               save_to_dir='train_gen', # for image visualization\n",
    "                                              class_mode='categorical')"
   ]
  },
  {
   "cell_type": "code",
   "execution_count": 6,
   "id": "skilled-incident",
   "metadata": {},
   "outputs": [],
   "source": [
    "# Define checkpoint to save best weights\n",
    "filepath=\"weights.vgg16aug.best.hdf5\"\n",
    "checkpoint = ModelCheckpoint(filepath, monitor='val_accuracy', verbose=1, save_best_only=True, mode='max')"
   ]
  },
  {
   "cell_type": "code",
   "execution_count": 7,
   "id": "conservative-membership",
   "metadata": {},
   "outputs": [],
   "source": [
    "# Define learning rate scheduler\n",
    "# Time-based learning rate\n",
    "def lr_time_based_decay(epoch, lr):\n",
    "    return lr * 1 / (1 + decay * epoch)\n",
    "\n",
    "# Step decay learning rate - Drop learning rate by 0.5 for every 10 epochs\n",
    "def step_decay(epoch):\n",
    "    initial_lrate = 0.005\n",
    "    drop = 0.5\n",
    "    epochs_drop = 10.0\n",
    "    lrate = initial_lrate * math.pow(drop, math.floor(epoch/epochs_drop))\n",
    "    return lrate\n",
    "\n",
    "# Using step decay\n",
    "lrate = LearningRateScheduler(step_decay)\n",
    "\n",
    "# Define callbacks list\n",
    "callbacks_list = [checkpoint, lrate]"
   ]
  },
  {
   "cell_type": "markdown",
   "id": "minor-assignment",
   "metadata": {},
   "source": [
    "## Model"
   ]
  },
  {
   "cell_type": "code",
   "execution_count": 8,
   "id": "geological-greenhouse",
   "metadata": {},
   "outputs": [
    {
     "name": "stdout",
     "output_type": "stream",
     "text": [
      "Model: \"vgg16\"\n",
      "_________________________________________________________________\n",
      "Layer (type)                 Output Shape              Param #   \n",
      "=================================================================\n",
      "input_1 (InputLayer)         [(None, 224, 224, 3)]     0         \n",
      "_________________________________________________________________\n",
      "block1_conv1 (Conv2D)        (None, 224, 224, 64)      1792      \n",
      "_________________________________________________________________\n",
      "block1_conv2 (Conv2D)        (None, 224, 224, 64)      36928     \n",
      "_________________________________________________________________\n",
      "block1_pool (MaxPooling2D)   (None, 112, 112, 64)      0         \n",
      "_________________________________________________________________\n",
      "block2_conv1 (Conv2D)        (None, 112, 112, 128)     73856     \n",
      "_________________________________________________________________\n",
      "block2_conv2 (Conv2D)        (None, 112, 112, 128)     147584    \n",
      "_________________________________________________________________\n",
      "block2_pool (MaxPooling2D)   (None, 56, 56, 128)       0         \n",
      "_________________________________________________________________\n",
      "block3_conv1 (Conv2D)        (None, 56, 56, 256)       295168    \n",
      "_________________________________________________________________\n",
      "block3_conv2 (Conv2D)        (None, 56, 56, 256)       590080    \n",
      "_________________________________________________________________\n",
      "block3_conv3 (Conv2D)        (None, 56, 56, 256)       590080    \n",
      "_________________________________________________________________\n",
      "block3_pool (MaxPooling2D)   (None, 28, 28, 256)       0         \n",
      "_________________________________________________________________\n",
      "block4_conv1 (Conv2D)        (None, 28, 28, 512)       1180160   \n",
      "_________________________________________________________________\n",
      "block4_conv2 (Conv2D)        (None, 28, 28, 512)       2359808   \n",
      "_________________________________________________________________\n",
      "block4_conv3 (Conv2D)        (None, 28, 28, 512)       2359808   \n",
      "_________________________________________________________________\n",
      "block4_pool (MaxPooling2D)   (None, 14, 14, 512)       0         \n",
      "_________________________________________________________________\n",
      "block5_conv1 (Conv2D)        (None, 14, 14, 512)       2359808   \n",
      "_________________________________________________________________\n",
      "block5_conv2 (Conv2D)        (None, 14, 14, 512)       2359808   \n",
      "_________________________________________________________________\n",
      "block5_conv3 (Conv2D)        (None, 14, 14, 512)       2359808   \n",
      "_________________________________________________________________\n",
      "block5_pool (MaxPooling2D)   (None, 7, 7, 512)         0         \n",
      "_________________________________________________________________\n",
      "global_average_pooling2d (Gl (None, 512)               0         \n",
      "=================================================================\n",
      "Total params: 14,714,688\n",
      "Trainable params: 14,714,688\n",
      "Non-trainable params: 0\n",
      "_________________________________________________________________\n"
     ]
    }
   ],
   "source": [
    "# Define number of classes and image size\n",
    "num_classes = 3\n",
    "image_size = 224\n",
    "\n",
    "# Instantiate VGG16 base model with imagenet\n",
    "vgg = VGG16(weights='imagenet',\n",
    "            include_top=False,\n",
    "            pooling='avg',\n",
    "            input_shape=(image_size, image_size, 3))\n",
    "vgg.summary()"
   ]
  },
  {
   "cell_type": "code",
   "execution_count": 9,
   "id": "actual-effectiveness",
   "metadata": {},
   "outputs": [
    {
     "name": "stdout",
     "output_type": "stream",
     "text": [
      "Model: \"sequential\"\n",
      "_________________________________________________________________\n",
      "Layer (type)                 Output Shape              Param #   \n",
      "=================================================================\n",
      "vgg16 (Functional)           (None, 512)               14714688  \n",
      "_________________________________________________________________\n",
      "dense (Dense)                (None, 3)                 1539      \n",
      "=================================================================\n",
      "Total params: 14,716,227\n",
      "Trainable params: 1,539\n",
      "Non-trainable params: 14,714,688\n",
      "_________________________________________________________________\n"
     ]
    }
   ],
   "source": [
    "# Create the model\n",
    "my_model = models.Sequential()\n",
    "\n",
    "# Add vgg base model\n",
    "my_model.add(vgg)\n",
    "my_model.add(layers.Dense(num_classes, activation='softmax'))\n",
    "my_model.layers[0].trainable = False\n",
    "my_model.summary()"
   ]
  },
  {
   "cell_type": "code",
   "execution_count": 10,
   "id": "pressed-pakistan",
   "metadata": {},
   "outputs": [],
   "source": [
    "rmsprop = RMSprop(learning_rate=0.0,\n",
    "                  momentum=0.9)\n",
    "\n",
    "my_model.compile(optimizer=rmsprop,\n",
    "                 loss='categorical_crossentropy',\n",
    "                 metrics=['accuracy'])"
   ]
  },
  {
   "cell_type": "markdown",
   "id": "occupied-grenada",
   "metadata": {},
   "source": [
    "## Training"
   ]
  },
  {
   "cell_type": "code",
   "execution_count": 11,
   "id": "compatible-number",
   "metadata": {},
   "outputs": [
    {
     "name": "stdout",
     "output_type": "stream",
     "text": [
      "Epoch 1/50\n",
      "3/3 [==============================] - ETA: 0s - loss: 1.9719 - accuracy: 0.3333\n",
      "Epoch 00001: val_accuracy improved from -inf to 0.33333, saving model to weights.vgg16aug.best.hdf5\n",
      "3/3 [==============================] - 29s 10s/step - loss: 1.9719 - accuracy: 0.3333 - val_loss: 1.2503 - val_accuracy: 0.3333\n",
      "Epoch 2/50\n",
      "3/3 [==============================] - ETA: 0s - loss: 1.3757 - accuracy: 0.3106\n",
      "Epoch 00002: val_accuracy did not improve from 0.33333\n",
      "3/3 [==============================] - 25s 8s/step - loss: 1.3757 - accuracy: 0.3106 - val_loss: 1.3644 - val_accuracy: 0.3333\n",
      "Epoch 3/50\n",
      "3/3 [==============================] - ETA: 0s - loss: 1.1594 - accuracy: 0.4091\n",
      "Epoch 00003: val_accuracy did not improve from 0.33333\n",
      "3/3 [==============================] - 38s 13s/step - loss: 1.1594 - accuracy: 0.4091 - val_loss: 1.1193 - val_accuracy: 0.3333\n",
      "Epoch 4/50\n",
      "3/3 [==============================] - ETA: 0s - loss: 1.1690 - accuracy: 0.3561\n",
      "Epoch 00004: val_accuracy improved from 0.33333 to 0.39394, saving model to weights.vgg16aug.best.hdf5\n",
      "3/3 [==============================] - 23s 8s/step - loss: 1.1690 - accuracy: 0.3561 - val_loss: 1.0727 - val_accuracy: 0.3939\n",
      "Epoch 5/50\n",
      "3/3 [==============================] - ETA: 0s - loss: 0.9454 - accuracy: 0.5076\n",
      "Epoch 00005: val_accuracy did not improve from 0.39394\n",
      "3/3 [==============================] - 39s 13s/step - loss: 0.9454 - accuracy: 0.5076 - val_loss: 1.1260 - val_accuracy: 0.3636\n",
      "Epoch 6/50\n",
      "3/3 [==============================] - ETA: 0s - loss: 1.0182 - accuracy: 0.5303\n",
      "Epoch 00006: val_accuracy improved from 0.39394 to 0.72727, saving model to weights.vgg16aug.best.hdf5\n",
      "3/3 [==============================] - 26s 9s/step - loss: 1.0182 - accuracy: 0.5303 - val_loss: 0.8670 - val_accuracy: 0.7273\n",
      "Epoch 7/50\n",
      "3/3 [==============================] - ETA: 0s - loss: 0.9165 - accuracy: 0.5303\n",
      "Epoch 00007: val_accuracy did not improve from 0.72727\n",
      "3/3 [==============================] - 26s 9s/step - loss: 0.9165 - accuracy: 0.5303 - val_loss: 1.0377 - val_accuracy: 0.3939\n",
      "Epoch 8/50\n",
      "3/3 [==============================] - ETA: 0s - loss: 0.8480 - accuracy: 0.5758\n",
      "Epoch 00008: val_accuracy did not improve from 0.72727\n",
      "3/3 [==============================] - 25s 8s/step - loss: 0.8480 - accuracy: 0.5758 - val_loss: 0.8404 - val_accuracy: 0.4848\n",
      "Epoch 9/50\n",
      "3/3 [==============================] - ETA: 0s - loss: 0.8867 - accuracy: 0.5833\n",
      "Epoch 00009: val_accuracy did not improve from 0.72727\n",
      "3/3 [==============================] - 24s 8s/step - loss: 0.8867 - accuracy: 0.5833 - val_loss: 0.8258 - val_accuracy: 0.5152\n",
      "Epoch 10/50\n",
      "3/3 [==============================] - ETA: 0s - loss: 0.6633 - accuracy: 0.7197\n",
      "Epoch 00010: val_accuracy did not improve from 0.72727\n",
      "3/3 [==============================] - 39s 13s/step - loss: 0.6633 - accuracy: 0.7197 - val_loss: 0.8555 - val_accuracy: 0.5455\n",
      "Epoch 11/50\n",
      "3/3 [==============================] - ETA: 0s - loss: 0.7143 - accuracy: 0.6364\n",
      "Epoch 00011: val_accuracy did not improve from 0.72727\n",
      "3/3 [==============================] - 24s 8s/step - loss: 0.7143 - accuracy: 0.6364 - val_loss: 1.0006 - val_accuracy: 0.5455\n",
      "Epoch 12/50\n",
      "3/3 [==============================] - ETA: 0s - loss: 0.7243 - accuracy: 0.6591\n",
      "Epoch 00012: val_accuracy did not improve from 0.72727\n",
      "3/3 [==============================] - 40s 13s/step - loss: 0.7243 - accuracy: 0.6591 - val_loss: 0.7630 - val_accuracy: 0.6061\n",
      "Epoch 13/50\n",
      "3/3 [==============================] - ETA: 0s - loss: 0.6488 - accuracy: 0.7197\n",
      "Epoch 00013: val_accuracy did not improve from 0.72727\n",
      "3/3 [==============================] - 26s 9s/step - loss: 0.6488 - accuracy: 0.7197 - val_loss: 0.6617 - val_accuracy: 0.6364\n",
      "Epoch 14/50\n",
      "3/3 [==============================] - ETA: 0s - loss: 0.7028 - accuracy: 0.6591\n",
      "Epoch 00014: val_accuracy did not improve from 0.72727\n",
      "3/3 [==============================] - 38s 13s/step - loss: 0.7028 - accuracy: 0.6591 - val_loss: 0.6398 - val_accuracy: 0.7273\n",
      "Epoch 15/50\n",
      "3/3 [==============================] - ETA: 0s - loss: 0.6476 - accuracy: 0.7045\n",
      "Epoch 00015: val_accuracy did not improve from 0.72727\n",
      "3/3 [==============================] - 25s 8s/step - loss: 0.6476 - accuracy: 0.7045 - val_loss: 0.7452 - val_accuracy: 0.5758\n",
      "Epoch 16/50\n",
      "3/3 [==============================] - ETA: 0s - loss: 0.6083 - accuracy: 0.7500\n",
      "Epoch 00016: val_accuracy did not improve from 0.72727\n",
      "3/3 [==============================] - 37s 12s/step - loss: 0.6083 - accuracy: 0.7500 - val_loss: 0.8174 - val_accuracy: 0.4545\n",
      "Epoch 17/50\n",
      "3/3 [==============================] - ETA: 0s - loss: 0.6721 - accuracy: 0.6591\n",
      "Epoch 00017: val_accuracy improved from 0.72727 to 0.78788, saving model to weights.vgg16aug.best.hdf5\n",
      "3/3 [==============================] - 24s 8s/step - loss: 0.6721 - accuracy: 0.6591 - val_loss: 0.6534 - val_accuracy: 0.7879\n",
      "Epoch 18/50\n",
      "3/3 [==============================] - ETA: 0s - loss: 0.5166 - accuracy: 0.8106\n",
      "Epoch 00018: val_accuracy did not improve from 0.78788\n",
      "3/3 [==============================] - 40s 13s/step - loss: 0.5166 - accuracy: 0.8106 - val_loss: 0.6356 - val_accuracy: 0.7273\n",
      "Epoch 19/50\n",
      "3/3 [==============================] - ETA: 0s - loss: 0.5553 - accuracy: 0.7424\n",
      "Epoch 00019: val_accuracy did not improve from 0.78788\n",
      "3/3 [==============================] - 24s 8s/step - loss: 0.5553 - accuracy: 0.7424 - val_loss: 0.6144 - val_accuracy: 0.7879\n",
      "Epoch 20/50\n",
      "3/3 [==============================] - ETA: 0s - loss: 0.5650 - accuracy: 0.7348\n",
      "Epoch 00020: val_accuracy did not improve from 0.78788\n",
      "3/3 [==============================] - 41s 14s/step - loss: 0.5650 - accuracy: 0.7348 - val_loss: 0.8352 - val_accuracy: 0.4545\n",
      "Epoch 21/50\n",
      "3/3 [==============================] - ETA: 0s - loss: 0.6103 - accuracy: 0.6970\n",
      "Epoch 00021: val_accuracy did not improve from 0.78788\n",
      "3/3 [==============================] - 24s 8s/step - loss: 0.6103 - accuracy: 0.6970 - val_loss: 0.8739 - val_accuracy: 0.4242\n",
      "Epoch 22/50\n",
      "3/3 [==============================] - ETA: 0s - loss: 0.5713 - accuracy: 0.7652\n",
      "Epoch 00022: val_accuracy did not improve from 0.78788\n",
      "3/3 [==============================] - 37s 12s/step - loss: 0.5713 - accuracy: 0.7652 - val_loss: 0.7593 - val_accuracy: 0.5152\n",
      "Epoch 23/50\n",
      "3/3 [==============================] - ETA: 0s - loss: 0.5105 - accuracy: 0.8030\n",
      "Epoch 00023: val_accuracy improved from 0.78788 to 0.81818, saving model to weights.vgg16aug.best.hdf5\n",
      "3/3 [==============================] - 43s 14s/step - loss: 0.5105 - accuracy: 0.8030 - val_loss: 0.6354 - val_accuracy: 0.8182\n",
      "Epoch 24/50\n",
      "3/3 [==============================] - ETA: 0s - loss: 0.5257 - accuracy: 0.7727\n",
      "Epoch 00024: val_accuracy did not improve from 0.81818\n",
      "3/3 [==============================] - 26s 9s/step - loss: 0.5257 - accuracy: 0.7727 - val_loss: 0.5867 - val_accuracy: 0.7273\n",
      "Epoch 25/50\n",
      "3/3 [==============================] - ETA: 0s - loss: 0.6256 - accuracy: 0.6970\n",
      "Epoch 00025: val_accuracy did not improve from 0.81818\n",
      "3/3 [==============================] - 41s 14s/step - loss: 0.6256 - accuracy: 0.6970 - val_loss: 0.6007 - val_accuracy: 0.7576\n",
      "Epoch 26/50\n",
      "3/3 [==============================] - ETA: 0s - loss: 0.5477 - accuracy: 0.7197\n",
      "Epoch 00026: val_accuracy did not improve from 0.81818\n",
      "3/3 [==============================] - 38s 13s/step - loss: 0.5477 - accuracy: 0.7197 - val_loss: 0.5742 - val_accuracy: 0.7879\n",
      "Epoch 27/50\n",
      "3/3 [==============================] - ETA: 0s - loss: 0.5201 - accuracy: 0.8030\n",
      "Epoch 00027: val_accuracy did not improve from 0.81818\n",
      "3/3 [==============================] - 25s 8s/step - loss: 0.5201 - accuracy: 0.8030 - val_loss: 0.6254 - val_accuracy: 0.7576\n",
      "Epoch 28/50\n",
      "3/3 [==============================] - ETA: 0s - loss: 0.5503 - accuracy: 0.7727\n",
      "Epoch 00028: val_accuracy did not improve from 0.81818\n",
      "3/3 [==============================] - 39s 13s/step - loss: 0.5503 - accuracy: 0.7727 - val_loss: 0.6208 - val_accuracy: 0.7273\n",
      "Epoch 29/50\n",
      "3/3 [==============================] - ETA: 0s - loss: 0.5317 - accuracy: 0.7879\n",
      "Epoch 00029: val_accuracy did not improve from 0.81818\n",
      "3/3 [==============================] - 25s 8s/step - loss: 0.5317 - accuracy: 0.7879 - val_loss: 0.6296 - val_accuracy: 0.7576\n",
      "Epoch 30/50\n",
      "3/3 [==============================] - ETA: 0s - loss: 0.4609 - accuracy: 0.8106\n",
      "Epoch 00030: val_accuracy did not improve from 0.81818\n",
      "3/3 [==============================] - 24s 8s/step - loss: 0.4609 - accuracy: 0.8106 - val_loss: 0.6512 - val_accuracy: 0.7576\n",
      "Epoch 31/50\n",
      "3/3 [==============================] - ETA: 0s - loss: 0.4839 - accuracy: 0.7955\n",
      "Epoch 00031: val_accuracy did not improve from 0.81818\n",
      "3/3 [==============================] - 25s 8s/step - loss: 0.4839 - accuracy: 0.7955 - val_loss: 0.6916 - val_accuracy: 0.6970\n",
      "Epoch 32/50\n",
      "3/3 [==============================] - ETA: 0s - loss: 0.4864 - accuracy: 0.8333\n",
      "Epoch 00032: val_accuracy did not improve from 0.81818\n",
      "3/3 [==============================] - 25s 8s/step - loss: 0.4864 - accuracy: 0.8333 - val_loss: 0.7169 - val_accuracy: 0.6364\n",
      "Epoch 33/50\n",
      "3/3 [==============================] - ETA: 0s - loss: 0.4978 - accuracy: 0.7803\n",
      "Epoch 00033: val_accuracy did not improve from 0.81818\n",
      "3/3 [==============================] - 26s 9s/step - loss: 0.4978 - accuracy: 0.7803 - val_loss: 0.7262 - val_accuracy: 0.6364\n",
      "Epoch 34/50\n",
      "3/3 [==============================] - ETA: 0s - loss: 0.4391 - accuracy: 0.8333\n",
      "Epoch 00034: val_accuracy did not improve from 0.81818\n",
      "3/3 [==============================] - 40s 13s/step - loss: 0.4391 - accuracy: 0.8333 - val_loss: 0.6981 - val_accuracy: 0.6667\n",
      "Epoch 35/50\n",
      "3/3 [==============================] - ETA: 0s - loss: 0.4511 - accuracy: 0.8561\n",
      "Epoch 00035: val_accuracy did not improve from 0.81818\n",
      "3/3 [==============================] - 43s 14s/step - loss: 0.4511 - accuracy: 0.8561 - val_loss: 0.6977 - val_accuracy: 0.6970\n",
      "Epoch 36/50\n",
      "3/3 [==============================] - ETA: 0s - loss: 0.4696 - accuracy: 0.8485\n",
      "Epoch 00036: val_accuracy did not improve from 0.81818\n",
      "3/3 [==============================] - 47s 16s/step - loss: 0.4696 - accuracy: 0.8485 - val_loss: 0.6448 - val_accuracy: 0.7576\n",
      "Epoch 37/50\n",
      "3/3 [==============================] - ETA: 0s - loss: 0.5059 - accuracy: 0.8182\n",
      "Epoch 00037: val_accuracy did not improve from 0.81818\n",
      "3/3 [==============================] - 40s 13s/step - loss: 0.5059 - accuracy: 0.8182 - val_loss: 0.6141 - val_accuracy: 0.7576\n",
      "Epoch 38/50\n",
      "3/3 [==============================] - ETA: 0s - loss: 0.4815 - accuracy: 0.7727\n",
      "Epoch 00038: val_accuracy did not improve from 0.81818\n",
      "3/3 [==============================] - 26s 9s/step - loss: 0.4815 - accuracy: 0.7727 - val_loss: 0.6474 - val_accuracy: 0.7576\n",
      "Epoch 39/50\n",
      "3/3 [==============================] - ETA: 0s - loss: 0.4752 - accuracy: 0.8258\n",
      "Epoch 00039: val_accuracy did not improve from 0.81818\n",
      "3/3 [==============================] - 26s 9s/step - loss: 0.4752 - accuracy: 0.8258 - val_loss: 0.6903 - val_accuracy: 0.6667\n",
      "Epoch 40/50\n",
      "3/3 [==============================] - ETA: 0s - loss: 0.4732 - accuracy: 0.8409\n",
      "Epoch 00040: val_accuracy did not improve from 0.81818\n",
      "3/3 [==============================] - 25s 8s/step - loss: 0.4732 - accuracy: 0.8409 - val_loss: 0.7087 - val_accuracy: 0.6364\n",
      "Epoch 41/50\n",
      "3/3 [==============================] - ETA: 0s - loss: 0.4430 - accuracy: 0.8485\n",
      "Epoch 00041: val_accuracy did not improve from 0.81818\n",
      "3/3 [==============================] - 23s 8s/step - loss: 0.4430 - accuracy: 0.8485 - val_loss: 0.7608 - val_accuracy: 0.5758\n",
      "Epoch 42/50\n",
      "3/3 [==============================] - ETA: 0s - loss: 0.4321 - accuracy: 0.8485\n",
      "Epoch 00042: val_accuracy did not improve from 0.81818\n",
      "3/3 [==============================] - 26s 9s/step - loss: 0.4321 - accuracy: 0.8485 - val_loss: 0.7510 - val_accuracy: 0.6061\n",
      "Epoch 43/50\n",
      "3/3 [==============================] - ETA: 0s - loss: 0.4377 - accuracy: 0.8333\n",
      "Epoch 00043: val_accuracy did not improve from 0.81818\n",
      "3/3 [==============================] - 39s 13s/step - loss: 0.4377 - accuracy: 0.8333 - val_loss: 0.7117 - val_accuracy: 0.6364\n",
      "Epoch 44/50\n",
      "3/3 [==============================] - ETA: 0s - loss: 0.4666 - accuracy: 0.8258\n",
      "Epoch 00044: val_accuracy did not improve from 0.81818\n",
      "3/3 [==============================] - 39s 13s/step - loss: 0.4666 - accuracy: 0.8258 - val_loss: 0.6659 - val_accuracy: 0.6970\n",
      "Epoch 45/50\n",
      "3/3 [==============================] - ETA: 0s - loss: 0.4442 - accuracy: 0.8409\n",
      "Epoch 00045: val_accuracy did not improve from 0.81818\n",
      "3/3 [==============================] - 26s 9s/step - loss: 0.4442 - accuracy: 0.8409 - val_loss: 0.6265 - val_accuracy: 0.7273\n",
      "Epoch 46/50\n",
      "3/3 [==============================] - ETA: 0s - loss: 0.4617 - accuracy: 0.8182\n",
      "Epoch 00046: val_accuracy did not improve from 0.81818\n",
      "3/3 [==============================] - 39s 13s/step - loss: 0.4617 - accuracy: 0.8182 - val_loss: 0.6172 - val_accuracy: 0.7576\n",
      "Epoch 47/50\n",
      "3/3 [==============================] - ETA: 0s - loss: 0.4490 - accuracy: 0.8258\n",
      "Epoch 00047: val_accuracy did not improve from 0.81818\n",
      "3/3 [==============================] - 25s 8s/step - loss: 0.4490 - accuracy: 0.8258 - val_loss: 0.6168 - val_accuracy: 0.7273\n",
      "Epoch 48/50\n",
      "3/3 [==============================] - ETA: 0s - loss: 0.4329 - accuracy: 0.8333\n",
      "Epoch 00048: val_accuracy did not improve from 0.81818\n",
      "3/3 [==============================] - 25s 8s/step - loss: 0.4329 - accuracy: 0.8333 - val_loss: 0.6221 - val_accuracy: 0.7273\n",
      "Epoch 49/50\n",
      "3/3 [==============================] - ETA: 0s - loss: 0.4848 - accuracy: 0.8333\n",
      "Epoch 00049: val_accuracy did not improve from 0.81818\n",
      "3/3 [==============================] - 39s 13s/step - loss: 0.4848 - accuracy: 0.8333 - val_loss: 0.6458 - val_accuracy: 0.7273\n",
      "Epoch 50/50\n",
      "3/3 [==============================] - ETA: 0s - loss: 0.4675 - accuracy: 0.8106\n",
      "Epoch 00050: val_accuracy did not improve from 0.81818\n",
      "3/3 [==============================] - 37s 12s/step - loss: 0.4675 - accuracy: 0.8106 - val_loss: 0.6782 - val_accuracy: 0.6970\n"
     ]
    }
   ],
   "source": [
    "history = my_model.fit(train_gen, epochs=50, validation_data=valid_gen, callbacks=callbacks_list)"
   ]
  },
  {
   "cell_type": "markdown",
   "id": "worse-adelaide",
   "metadata": {},
   "source": [
    "## Evaluation"
   ]
  },
  {
   "cell_type": "code",
   "execution_count": 171,
   "id": "cardiovascular-grant",
   "metadata": {},
   "outputs": [
    {
     "data": {
      "image/png": "[encoded data removed]",
      "text/plain": [
       "<Figure size 432x288 with 1 Axes>"
      ]
     },
     "metadata": {
      "needs_background": "light"
     },
     "output_type": "display_data"
    }
   ],
   "source": [
    "# Plot model accuracy\n",
    "plt.plot(history.history['accuracy'])\n",
    "plt.plot(history.history['val_accuracy'])\n",
    "plt.title('model accuracy')\n",
    "plt.ylabel('accuracy')\n",
    "plt.xlabel('epoch')\n",
    "plt.legend(['train', 'val'], loc='upper left')\n",
    "plt.show()"
   ]
  },
  {
   "cell_type": "code",
   "execution_count": 172,
   "id": "consecutive-tonight",
   "metadata": {},
   "outputs": [
    {
     "data": {
      "image/png": "[encoded data removed]",
      "text/plain": [
       "<Figure size 432x288 with 1 Axes>"
      ]
     },
     "metadata": {
      "needs_background": "light"
     },
     "output_type": "display_data"
    }
   ],
   "source": [
    "# Plot model loss\n",
    "plt.plot(history.history['loss'])\n",
    "plt.plot(history.history['val_loss'])\n",
    "plt.title('model loss')\n",
    "plt.ylabel('loss')\n",
    "plt.xlabel('epoch')\n",
    "plt.legend(['train', 'val'], loc='upper left')\n",
    "plt.show()"
   ]
  },
  {
   "cell_type": "code",
   "execution_count": 173,
   "id": "breathing-motor",
   "metadata": {},
   "outputs": [
    {
     "data": {
      "image/png": "[encoded data removed]",
      "text/plain": [
       "<Figure size 432x288 with 1 Axes>"
      ]
     },
     "metadata": {
      "needs_background": "light"
     },
     "output_type": "display_data"
    }
   ],
   "source": [
    "# Plot learning rate\n",
    "plt.plot(history.history['lr'])\n",
    "plt.title('learning rate')\n",
    "plt.ylabel('learning rate')\n",
    "plt.xlabel('epoch')\n",
    "plt.show()"
   ]
  },
  {
   "cell_type": "code",
   "execution_count": 20,
   "id": "informal-substitute",
   "metadata": {},
   "outputs": [],
   "source": [
    "my_model.load_weights('weights.vgg16.best1.hdf5')"
   ]
  },
  {
   "cell_type": "code",
   "execution_count": 10,
   "id": "completed-submission",
   "metadata": {},
   "outputs": [
    {
     "name": "stdout",
     "output_type": "stream",
     "text": [
      "Found 48 images belonging to 3 classes.\n"
     ]
    }
   ],
   "source": [
    "# Create a flow from the directory for test data\n",
    "test_datagen = ImageDataGenerator(rescale=1./255)\n",
    "\n",
    "test_gen = test_datagen.flow_from_directory(directory='test_dataset',\n",
    "                                            target_size=(224,224),\n",
    "                                            batch_size=1,\n",
    "                                            shuffle=False,\n",
    "#                                             save_to_dir='test_gen',\n",
    "                                            class_mode='categorical')"
   ]
  },
  {
   "cell_type": "code",
   "execution_count": 11,
   "id": "crucial-demographic",
   "metadata": {},
   "outputs": [
    {
     "name": "stdout",
     "output_type": "stream",
     "text": [
      "48/48 [==============================] - 7s 152ms/step - loss: 0.7180 - accuracy: 0.7292\n"
     ]
    }
   ],
   "source": [
    "# Evaluate model on test set\n",
    "scores = my_model.evaluate(test_gen)"
   ]
  },
  {
   "cell_type": "code",
   "execution_count": 12,
   "id": "great-copyright",
   "metadata": {},
   "outputs": [],
   "source": [
    "# Predict probabilities\n",
    "prediction = my_model.predict(test_gen)"
   ]
  },
  {
   "cell_type": "code",
   "execution_count": 13,
   "id": "taken-concept",
   "metadata": {},
   "outputs": [
    {
     "name": "stdout",
     "output_type": "stream",
     "text": [
      "[0 0 0 0 0 0 0 2 0 1 0 1 0 0 0 0 1 1 1 1 1 1 1 1 1 1 1 1 1 1 2 1 0 2 1 2 0\n",
      " 2 2 2 0 1 2 0 1 1 1 2]\n"
     ]
    }
   ],
   "source": [
    "# Predict class based on highest probability\n",
    "y_classes = prediction.argmax(axis=-1)\n",
    "print(y_classes)"
   ]
  },
  {
   "cell_type": "code",
   "execution_count": 14,
   "id": "living-metropolitan",
   "metadata": {},
   "outputs": [
    {
     "name": "stdout",
     "output_type": "stream",
     "text": [
      "dimension\n",
      "dimension\n",
      "dimension\n",
      "dimension\n",
      "dimension\n",
      "dimension\n",
      "dimension\n",
      "heat_number\n",
      "dimension\n",
      "grade\n",
      "dimension\n",
      "grade\n",
      "dimension\n",
      "dimension\n",
      "dimension\n",
      "dimension\n",
      "grade\n",
      "grade\n",
      "grade\n",
      "grade\n",
      "grade\n",
      "grade\n",
      "grade\n",
      "grade\n",
      "grade\n",
      "grade\n",
      "grade\n",
      "grade\n",
      "grade\n",
      "grade\n",
      "heat_number\n",
      "grade\n",
      "dimension\n",
      "heat_number\n",
      "grade\n",
      "heat_number\n",
      "dimension\n",
      "heat_number\n",
      "heat_number\n",
      "heat_number\n",
      "dimension\n",
      "grade\n",
      "heat_number\n",
      "dimension\n",
      "grade\n",
      "grade\n",
      "grade\n",
      "heat_number\n"
     ]
    }
   ],
   "source": [
    "# Output labels, Keras generator sorts the labels by alphabetical order\n",
    "labels = ['dimension', 'grade', 'heat_number']\n",
    "for i in y_classes:\n",
    "    predicted_label = sorted(labels)[i]\n",
    "    print(predicted_label)"
   ]
  }
 ],
 "metadata": {
  "kernelspec": {
   "display_name": "Python 3",
   "language": "python",
   "name": "python3"
  },
  "language_info": {
   "codemirror_mode": {
    "name": "ipython",
    "version": 3
   },
   "file_extension": ".py",
   "mimetype": "text/x-python",
   "name": "python",
   "nbconvert_exporter": "python",
   "pygments_lexer": "ipython3",
   "version": "3.8.5"
  }
 },
 "nbformat": 4,
 "nbformat_minor": 5
}
